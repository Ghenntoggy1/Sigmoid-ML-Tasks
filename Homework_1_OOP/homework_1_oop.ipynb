{
 "cells": [
  {
   "metadata": {},
   "cell_type": "markdown",
   "source": [
    "## Homework #1 - Object-Oriented Programming Principles.\n",
    "\n",
    "In this homework I had to implement all my knowledge regarding the OOP principles into practice.\n",
    "\n",
    "## Objective: Create a simplified machine learning pipeline that demonstrates Object-Oriented Programming (OOP) principles\n",
    "\n",
    "### Data Specification:\n",
    "* X: A list (or list of lists) representing your features. For simplicity, you can assume\n",
    "one-dimensional features (e.g., [1, 2, 3]), where each number could represent the\n",
    "house size for each different example in your data\n",
    "* y: A list of numeric values representing labels or target values (e.g., [10, 14, 12] for\n",
    "regression - house price, or [0, 1, 0] for classification - pricing category: 0 - not\n",
    "expensive, 1 - expensive)\n",
    "\n",
    "### Classes to implement:\n",
    "\n",
    "#### Base Class: MLModel\n",
    "* Define two methods, fit(X, y) and predict(X). Both should raise NotImplementedError by default. This ensures that child classes are responsible for implementing the details.\n",
    "\n",
    "#### Child Classes:\n",
    "* DummyClassifier\n",
    "  * The fit(X, y) method should compute and store the most common target class based on y (store it in self.__mode)\n",
    "  * The predict(X) method should return a list of the same length as X, where each element would be the computed value self.__mode\n",
    "* MeanRegressor:\n",
    "  * In the fit(X, y) method, compute the mean of y and store it (e.g., self.__mean).\n",
    "  * In the predict(X) method, return this stored mean for every input (e.g., \\[self.__mean, self.__mean, ...\\]).\n",
    "\n",
    "#### Dataset Class:\n",
    "* During object initialization, store the features (X) and targets (y) in private attributes\n",
    "(e.g., __features and __targets).\n",
    "* Provide a method get_data() to return (X, y).\n",
    "* Implement a split(train_fraction=0.8) method that returns (X_train, y_train), (X_test, y_test) by slicing the data.\n",
    "\n",
    "### Final Demonstration:\n",
    "* Create variables X and y with any values, load them into your Dataset, and split the data into X_train, y_train, X_test, y_test by calling split method\n",
    "* Instantiate each model class, train them on (X_train, y_train) by calling fit method, then predict on X_test.\n",
    "* Print out the predictions for each model.\n",
    "* Highlight Polymorphism, Encapsulation, and Inheritance through your implementation and demonstration"
   ],
   "id": "24fa08cac6663104"
  },
  {
   "metadata": {},
   "cell_type": "markdown",
   "source": [
    "### Base class - MLModel\n",
    "In the cell below, I specify a Base class (sort of abstract class) that will be \"implemented\" by its subclasses. It has 2 \"abstract\" methods:\n",
    "* fit(X, y) - that will take the list or list of lists parameter X (feature / features) and y - list of numeric values (target).\n",
    "* predict(X) - that will take the list or list of lists parameter X (feature / features).\n",
    "\n",
    "Both of the methods are not actually abstract in the direct sense, but we simulate that behavior by making them raise NotImplementedError, that will mean that the method are abstract."
   ],
   "id": "5da8c5c6ed525471"
  },
  {
   "cell_type": "code",
   "id": "initial_id",
   "metadata": {
    "collapsed": true,
    "ExecuteTime": {
     "end_time": "2025-01-22T11:58:31.385808Z",
     "start_time": "2025-01-22T11:58:31.382170Z"
    }
   },
   "source": [
    "from typing import Counter\n",
    "\n",
    "\n",
    "class MLModel:\n",
    "    def fit(self, X: list | list[list], y: list) -> None:\n",
    "        raise NotImplementedError\n",
    "\n",
    "    def predict(self, X: list | list[list]):\n",
    "        raise NotImplementedError"
   ],
   "outputs": [],
   "execution_count": 17
  },
  {
   "metadata": {},
   "cell_type": "markdown",
   "source": [
    "### Subclass #1 - DummyClassifier\n",
    "In the cell below, I present the DummyClassifier class, that will \"implement\" the MLModel \"abstract\" class (actually the DummyClassifier(MLModel) is about the Inheritance), making the\n",
    "DummyClassifier a subclass of the MLModel base class. In this case, it should override the methods from its parent class (implement them).\n",
    "* fit(X, y) - for this method, it will find the most common Target Class in the y parameter (list of Target Variables) via the use of Counter.most_common() method"
   ],
   "id": "500662b60bcca0b7"
  },
  {
   "metadata": {
    "ExecuteTime": {
     "end_time": "2025-01-22T11:58:32.315795Z",
     "start_time": "2025-01-22T11:58:32.309870Z"
    }
   },
   "cell_type": "code",
   "source": [
    "from overrides import override\n",
    "from collections import Counter\n",
    "\n",
    "from Homework_1_OOP.Models.MLModel import MLModel\n",
    "\n",
    "\n",
    "class DummyClassifier(MLModel):\n",
    "    def __init__(self):\n",
    "        self.__mode = False\n",
    "\n",
    "    @override\n",
    "    def fit(self, X: list | list[list], y: list) -> None:\n",
    "        # self.__mode = max(set(y), key=y.count)\n",
    "        if set(y) != {0, 1}:\n",
    "            raise ValueError(\"y must contain only 0 and 1 values.\")\n",
    "        if len(y) == 0:\n",
    "            raise ValueError(\"y contains no values inside.\")\n",
    "\n",
    "        occurrence_count = Counter(y)\n",
    "        self.__mode = occurrence_count.most_common(1)[0][0] # most_common(1) => only one most common value (still list of tuples),\n",
    "                                                            # most_common(1)[0] => return the tuple (value, occurrences),\n",
    "                                                            # most_common(1)[0][0] => return the most common value.\n",
    "    @override\n",
    "    def predict(self, X: list | list[list]) -> list[bool]:\n",
    "        return [bool(self.__mode) for _ in range(len(X))]"
   ],
   "id": "ce14a65e0747ac1c",
   "outputs": [],
   "execution_count": 18
  },
  {
   "metadata": {},
   "cell_type": "markdown",
   "source": "",
   "id": "11ec4d403d4a03fe"
  }
 ],
 "metadata": {
  "kernelspec": {
   "display_name": "Python 3",
   "language": "python",
   "name": "python3"
  },
  "language_info": {
   "codemirror_mode": {
    "name": "ipython",
    "version": 2
   },
   "file_extension": ".py",
   "mimetype": "text/x-python",
   "name": "python",
   "nbconvert_exporter": "python",
   "pygments_lexer": "ipython2",
   "version": "2.7.6"
  }
 },
 "nbformat": 4,
 "nbformat_minor": 5
}
