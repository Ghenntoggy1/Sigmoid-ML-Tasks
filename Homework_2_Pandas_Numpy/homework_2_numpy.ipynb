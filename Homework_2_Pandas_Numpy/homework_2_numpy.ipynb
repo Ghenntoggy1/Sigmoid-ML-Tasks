{
 "cells": [
  {
   "metadata": {},
   "cell_type": "markdown",
   "source": [
    "## Homework #2 - Statistical Analysis. Pandas. Numpy\n",
    "\n",
    "### Overview:\n",
    "Numpy is a powerful library that takes almost all computing tasks\n",
    "needed for Machine Learning, from vector and matrix operations to optimization problems.\n",
    "Usually, all formulas in every algorithm are implemented in NumPy or using another library named scipy.\n",
    "In this homework, we invite you to write some python functions using NumPy to\n",
    "practice more the maths to NumPy conversion, which will be helpful to\n",
    "you in the Research and Development projects\n",
    "\n",
    "### Tasks:\n",
    "#### Formula Nr. 1: Normal Distribution\n",
    "\n",
    "The normal distribution function is the function that allows us to get the\n",
    "probability of getting a value from a numerical series knowing the mean\n",
    "and standard deviation of the series.\n",
    "\n",
    "$$\n",
    "\\begin{split}\n",
    "N(x, \\mu, \\sigma) = \\frac{1}{\\sigma\\sqrt{2\\pi}}e^{-\\frac{1}{2}(\\frac{x-\\mu}{\\sigma})^2}, \\\\\n",
    "x\\text{ - the value for which the probability is calculated} \\\\\n",
    "\\mu\\text{ - the mean of the distribution} \\\\\n",
    "\\sigma\\text{ - the standard deviation of the distribution } \\\\\n",
    "\\end{split}\n",
    "$$\n",
    "Implement in python using NumPy the formula above as a function\n",
    "which will take the following parameters:\n",
    "$$\n",
    "\\begin{split}\n",
    "x\\text{: a float value} \\\\\n",
    "\\mu\\text{: a float value (represents the mean of the series)} \\\\\n",
    "\\sigma\\text{: a float value (represents the standard deviation of the series)} \\\\\n",
    "\\end{split}\n",
    "$$\n"
   ],
   "id": "9d18354287d3334a"
  },
  {
   "cell_type": "code",
   "id": "initial_id",
   "metadata": {
    "collapsed": true,
    "ExecuteTime": {
     "end_time": "2025-01-26T03:55:53.862976Z",
     "start_time": "2025-01-26T03:55:53.859841Z"
    }
   },
   "source": [
    "import numpy as np\n",
    "import matplotlib.pyplot as plt\n",
    "\n",
    "def normal_distribution(x: float, mu: float, sigma: float) -> float:\n",
    "    \"\"\"\n",
    "    Normal Distribution Function\n",
    "\n",
    "    Args:\n",
    "        x (float): the value whose probability is to be found.\n",
    "        mu (float): the mean value of the series.\n",
    "        sigma (float): the standard deviation of the series.\n",
    "\n",
    "    Returns:\n",
    "        float: the value of the Normal Distribution Function at x.\n",
    "    \"\"\"\n",
    "    return (1 / (sigma * np.sqrt(2 * np.pi))) * np.exp((-0.5) * ((x - mu) / sigma) ** 2)"
   ],
   "outputs": [],
   "execution_count": 152
  },
  {
   "metadata": {
    "ExecuteTime": {
     "end_time": "2025-01-26T03:55:53.879999Z",
     "start_time": "2025-01-26T03:55:53.876752Z"
    }
   },
   "cell_type": "code",
   "source": [
    "x = 0\n",
    "mu = 0\n",
    "sigma = 1\n",
    "y = normal_distribution(x, mu, sigma)\n",
    "print(f\"CUSTOM NORMAL DISTRIBUTION FUNCTION: {y}\")\n",
    "\n",
    "from scipy.stats import norm\n",
    "print(f\"SCIPY NORMAL DISTRIBUTION FUNCTION: {norm.pdf(x, loc=mu, scale=sigma)}\")\n"
   ],
   "id": "eabac8342a1ad6b8",
   "outputs": [
    {
     "name": "stdout",
     "output_type": "stream",
     "text": [
      "CUSTOM NORMAL DISTRIBUTION FUNCTION: 0.3989422804014327\n",
      "SCIPY NORMAL DISTRIBUTION FUNCTION: 0.3989422804014327\n"
     ]
    }
   ],
   "execution_count": 153
  },
  {
   "metadata": {
    "ExecuteTime": {
     "end_time": "2025-01-26T03:55:53.975044Z",
     "start_time": "2025-01-26T03:55:53.884162Z"
    }
   },
   "cell_type": "code",
   "source": [
    "x = np.linspace(start=-4, stop=4, num=10000)\n",
    "mu = 0\n",
    "sigma = 1\n",
    "y = normal_distribution(x, mu, sigma)\n",
    "plt.plot(x, y)"
   ],
   "id": "25558f17a8dfa4fc",
   "outputs": [
    {
     "data": {
      "text/plain": [
       "[<matplotlib.lines.Line2D at 0x18634e6e990>]"
      ]
     },
     "execution_count": 154,
     "metadata": {},
     "output_type": "execute_result"
    },
    {
     "data": {
      "text/plain": [
       "<Figure size 640x480 with 1 Axes>"
      ],
      "image/png": "[encoded data removed]"
     },
     "metadata": {},
     "output_type": "display_data"
    }
   ],
   "execution_count": 154
  },
  {
   "metadata": {},
   "cell_type": "markdown",
   "source": [
    "#### Formula Nr. 2: Sigmoid Function\n",
    "\n",
    "The name of the organization comes from an activation function - Sigmoid. The sigmoid function is used when you need\n",
    "to convert real numbers into probabilities or from a -∞ to +∞ range into a 0 to 1 range. Its\n",
    "formula is the following:\n",
    "\n",
    "$$\n",
    "\\begin{split}\n",
    "S(x) = \\frac{1}{1+e^{-x}}, \\\\\n",
    "x\\text{ - the value that should be transformed} \\\\\n",
    "e\\text{ - the value of Euler's number} \\\\\n",
    "\\end{split}\n",
    "$$\n",
    "Implement in python using NumPy the formula above as a function\n",
    "which will take the following parameters:\n",
    "$$\n",
    "\\begin{split}\n",
    "x\\text{:  a real numeric value} \\\\\n",
    "\\end{split}\n",
    "$$"
   ],
   "id": "7949644fa3e0b1b2"
  },
  {
   "metadata": {
    "ExecuteTime": {
     "end_time": "2025-01-26T03:55:53.994973Z",
     "start_time": "2025-01-26T03:55:53.992132Z"
    }
   },
   "cell_type": "code",
   "source": [
    "def sigmoid_function(x: float) -> float:\n",
    "    \"\"\"\n",
    "    Sigmoid Function\n",
    "\n",
    "    Args:\n",
    "        x (float): the value that should be scaled to range -1 to 1.\n",
    "\n",
    "    Returns:\n",
    "        float : the value of the Sigmoid Function at x, that ∈ [-1, 1].\n",
    "    \"\"\"\n",
    "    return 1 / (1 + np.exp(-x))"
   ],
   "id": "de450a70c6d334",
   "outputs": [],
   "execution_count": 155
  },
  {
   "metadata": {
    "ExecuteTime": {
     "end_time": "2025-01-26T03:55:54.006581Z",
     "start_time": "2025-01-26T03:55:54.003699Z"
    }
   },
   "cell_type": "code",
   "source": [
    "x = 0\n",
    "y = sigmoid_function(x)\n",
    "print(f\"CUSTOM SIGMOID FUNCTION: {y}\")\n",
    "\n",
    "from scipy.special import expit\n",
    "print(f\"SCIPY SIGMOID FUNCTION: {expit(x)}\")\n"
   ],
   "id": "9e23229d1b3e0575",
   "outputs": [
    {
     "name": "stdout",
     "output_type": "stream",
     "text": [
      "CUSTOM SIGMOID FUNCTION: 0.5\n",
      "SCIPY SIGMOID FUNCTION: 0.5\n"
     ]
    }
   ],
   "execution_count": 156
  },
  {
   "metadata": {
    "ExecuteTime": {
     "end_time": "2025-01-26T03:55:54.099117Z",
     "start_time": "2025-01-26T03:55:54.014275Z"
    }
   },
   "cell_type": "code",
   "source": [
    "x = np.linspace(start=-10, stop=10, num=10000)\n",
    "y = sigmoid_function(x)\n",
    "plt.plot(x, y)"
   ],
   "id": "31da2a3419f76bd2",
   "outputs": [
    {
     "data": {
      "text/plain": [
       "[<matplotlib.lines.Line2D at 0x18634ecb4d0>]"
      ]
     },
     "execution_count": 157,
     "metadata": {},
     "output_type": "execute_result"
    },
    {
     "data": {
      "text/plain": [
       "<Figure size 640x480 with 1 Axes>"
      ],
      "image/png": "[encoded data removed]"
     },
     "metadata": {},
     "output_type": "display_data"
    }
   ],
   "execution_count": 157
  },
  {
   "metadata": {},
   "cell_type": "markdown",
   "source": [
    "#### Formula Nr. 3:  Weights update in Logistic Regression\n",
    "\n",
    "One of the Machine Learning algorithms you will learn during this book\n",
    "is Logistic Regression. It uses an iterative process to find the coefficients\n",
    "of a linear function, updating the values of the weights vector ($w$) at each\n",
    "iteration, taking into account errors of the model’s prediction itself\n",
    "\n",
    "$$\n",
    "\\begin{split}\n",
    "w_j = w_j - \\alpha\\frac{1}{n}\\displaystyle\\sum_{i=1}^{n} {(\\hat{y}_i - y_i)x^{(i)}_j}, \\\\\n",
    "w_j\\text{ - is the weight with the index $j$ in the weight vector} \\\\\n",
    "y_i\\text{ - is the value with the index $i$ in the target vector} \\\\\n",
    "x^{(i)}_j\\text{is the value of the matrix in the cell with the row index $i$ and the column index $j$} \\\\\n",
    "n\\text{ - is the number of rows in the matrix $X$ and vector $\\vec{y}$} \\\\\n",
    "\\alpha\\text{ - is the learning rate} \\\\\n",
    "\\end{split}\n",
    "$$\n",
    "Implement in python using NumPy the formula above as a function\n",
    "which will take the following parameters:\n",
    "$$\n",
    "\\begin{split}\n",
    "\\vec{w}\\text{(weight vector): a 1-d numpy array.} \\\\\n",
    "X\\text{(matrix of samples): a 2-d numpy array.} \\\\\n",
    "\\vec{y}\\text{(target value vector): a 1-d numpy array.} \\\\\n",
    "\\hat{y}\\text{ (predicted target vector): a 1-d numpy array.} \\\\\n",
    "α\\text{(learning rate): a value from 0 to 1, default - 0.0005} \\\\\n",
    "\\end{split}\n",
    "$$"
   ],
   "id": "11b17ae736ebe2be"
  },
  {
   "metadata": {
    "ExecuteTime": {
     "end_time": "2025-01-26T03:55:54.112312Z",
     "start_time": "2025-01-26T03:55:54.109235Z"
    }
   },
   "cell_type": "code",
   "source": [
    "def weight_update_logistic_regression(w: np.ndarray, X: np.ndarray, y: np.ndarray, y_hat: np.ndarray, alpha: float = 5e-4) -> np.ndarray:\n",
    "    \"\"\"\n",
    "    Weight Update function for Logistic Regression\n",
    "\n",
    "    Args:\n",
    "        w (1-D np.ndarray): the weight vector.\n",
    "        X (2-D np.ndarray): the feature matrix.\n",
    "        y (1-D np.ndarray): the target vector.\n",
    "        y_hat (1-D np.ndarray): the predicted target vector.\n",
    "        alpha (float): the learning rate (default: 5e-4).\n",
    "\n",
    "    Returns:\n",
    "        np.ndarray : the updated weight vector (1D).\n",
    "    \"\"\"\n",
    "    # (y_hat - y) = err, vector 1D\n",
    "    # np.dot((y_hat - y), X) = dj_dw per each w, vector 1D\n",
    "    # (alpha / X.shape[0]) * np.dot((y_hat - y), X) = vector 1D, multiplication with a scalar\n",
    "    # w - (alpha / X.shape[0]) * np.dot((y_hat - y), X) = vector 1D = vector subtraction W - alpha/m * (y_res dot_prod X), for each previous w_j subtract dj_dw\n",
    "    return w - (alpha / X.shape[0]) * np.dot((y_hat - y), X)"
   ],
   "id": "c49db322f9b82eb9",
   "outputs": [],
   "execution_count": 158
  },
  {
   "metadata": {
    "ExecuteTime": {
     "end_time": "2025-01-26T03:55:54.127882Z",
     "start_time": "2025-01-26T03:55:54.123596Z"
    }
   },
   "cell_type": "code",
   "source": [
    "def weight_update_logistic_regression_iters(w: np.ndarray, X: np.ndarray, y: np.ndarray, y_hat: np.ndarray, alpha: float = 5e-4) -> np.ndarray:\n",
    "    \"\"\"\n",
    "    Weight Update function for Logistic Regression without using Numpy Vectorization\n",
    "\n",
    "    Args:\n",
    "        w (1-D np.ndarray): the weight vector.\n",
    "        X (2-D np.ndarray): the feature matrix.\n",
    "        y (1-D np.ndarray): the target vector.\n",
    "        y_hat (1-D np.ndarray): the predicted target vector.\n",
    "        alpha (float): the learning rate (default: 5e-4).\n",
    "\n",
    "    Returns:\n",
    "        np.ndarray : the updated weight vector (1D).\n",
    "    \"\"\"\n",
    "    m, n = X.shape\n",
    "    w_res = np.zeros(n)\n",
    "    for j in range(n):\n",
    "        print(f\"j = {j}\")\n",
    "\n",
    "        # dj_dw = np.dot((y_hat - y), X[:, j])\n",
    "\n",
    "        dj_dw = 0\n",
    "        for i in range(m):\n",
    "            dj_dw += (y_hat[i] - y[i]) * X[i, j]\n",
    "\n",
    "        print(f\"dj_dw = {dj_dw}\")\n",
    "        print(f\"w[j]- alpha/n * dj_dw = {w[j] - (alpha / m) * dj_dw}\")\n",
    "        w_res[j] = w[j] - (alpha / m) * dj_dw\n",
    "\n",
    "        print(f\"w_res[j] = {w_res[j]}\")\n",
    "    print(w_res)\n",
    "    return w_res\n"
   ],
   "id": "61a92d476b50d34d",
   "outputs": [],
   "execution_count": 159
  },
  {
   "metadata": {
    "ExecuteTime": {
     "end_time": "2025-01-26T03:55:54.141092Z",
     "start_time": "2025-01-26T03:55:54.137107Z"
    }
   },
   "cell_type": "code",
   "source": [
    "X_train = np.array([[1, 2], [3, 4], [2, 1]])\n",
    "y_train = np.array([0, 1, 0])\n",
    "w_tmp  = np.zeros_like(X_train[0])\n",
    "alpha = 0.1\n",
    "y_hat = np.array([0, 0, 1])\n",
    "\n",
    "print(\"w before update: \", w_tmp)\n",
    "w = weight_update_logistic_regression(w_tmp, X_train, y_train, y_hat, alpha)\n",
    "w2 = weight_update_logistic_regression_iters(w_tmp, X_train, y_train, y_hat, alpha)\n",
    "print(\"w after update: \", w)\n",
    "print(\"w after update: \", w2)"
   ],
   "id": "966aa028a115298",
   "outputs": [
    {
     "name": "stdout",
     "output_type": "stream",
     "text": [
      "w before update:  [0 0]\n",
      "j = 0\n",
      "dj_dw = -1\n",
      "w[j]- alpha/n * dj_dw = 0.03333333333333333\n",
      "w_res[j] = 0.03333333333333333\n",
      "j = 1\n",
      "dj_dw = -3\n",
      "w[j]- alpha/n * dj_dw = 0.1\n",
      "w_res[j] = 0.1\n",
      "[0.03333333 0.1       ]\n",
      "w after update:  [0.03333333 0.1       ]\n",
      "w after update:  [0.03333333 0.1       ]\n"
     ]
    }
   ],
   "execution_count": 160
  },
  {
   "metadata": {},
   "cell_type": "markdown",
   "source": [
    "#### Formula Nr. 4:  Mean Squared Error\n",
    "\n",
    "Mean Squared Error(MSE) measures the average of the squares of the\n",
    "errors—that is, the average squared difference between the estimated values and\n",
    "the actual value. They are usually used in Regression problems.\n",
    "\n",
    "\n",
    "$$\n",
    "\\begin{split}\n",
    "MSE = \\frac{1}{n}\\displaystyle\\sum_{i=1}^{n} {(y_i - \\hat{y}_i)^2}, \\\\\n",
    "y_i\\text{ - is the value with the index $i$ in the target vector} \\\\\n",
    "\\hat{y}_i\\text{ - is the value with the index $i$ in the predicted vector} \\\\\n",
    "n\\text{ - is the number of rows in the vector $\\vec{y}$} \\\\\n",
    "\\end{split}\n",
    "$$\n",
    "Why square the difference between the true value and the predicted\n",
    "one? Because the errors can be positive and also negative, and as you\n",
    "might guess, they can cancel one another, which is not good.\n",
    "You might ask why not use the absolute value to not cancel values?\n",
    "Well there is a bit complicated answer for which you have to understand\n",
    "the concept of gradient descent, so we will leave it for your research.\n",
    "(because squared error function is differentiable everywhere, it means it is continuous everywhere,\n",
    "while the absolute error function is not continuous at 0, therefore not differentiable everywhere)\n",
    "\n",
    "In the formula above, $y$ represents the predictions vector, for example, predictions from some ML algorithm, and $\\hat{y}_i$ represents the actual\n",
    "target values, which we try to predict. $\\sum{}{}$ sign means just a summation\n",
    "operation, where $i = 1$ represents the initial value of the index and $n$\n",
    "represents the length of the vector. For every $i$ till $n$, you have to calculate the squared difference for the predicted and target value for row $i$,\n",
    "sum all this together, and then calculate its mean by dividing by $n$.\n",
    "\n",
    "Implement in python using NumPy the formula above as a function\n",
    "which will take the following parameters:\n",
    "$$\n",
    "\\begin{split}\n",
    "\\vec{y}\\text{ (target): a 1-d numpy array.} \\\\\n",
    "\\hat{y}\\text{ (predictions): a 1-d numpy array.} \\\\\n",
    "\\end{split}\n",
    "$$\n",
    "The function should return the error"
   ],
   "id": "ba06b29138c8b6f7"
  },
  {
   "metadata": {
    "ExecuteTime": {
     "end_time": "2025-01-26T03:55:54.152544Z",
     "start_time": "2025-01-26T03:55:54.149643Z"
    }
   },
   "cell_type": "code",
   "source": [
    "def mean_squared_error(y: np.ndarray, y_hat: np.ndarray) -> float:\n",
    "    \"\"\"\n",
    "    Mean Squared Error\n",
    "\n",
    "    Args:\n",
    "        y (1-D np.ndarray): the target vector.\n",
    "        y_hat (1-D np.ndarray): the predicted target vector.\n",
    "\n",
    "    Returns:\n",
    "        float : the mean squared error value between predicted and true values.\n",
    "    \"\"\"\n",
    "    return np.mean((y - y_hat) ** 2)"
   ],
   "id": "10aac3adce7350bf",
   "outputs": [],
   "execution_count": 161
  },
  {
   "metadata": {
    "ExecuteTime": {
     "end_time": "2025-01-26T03:55:54.165501Z",
     "start_time": "2025-01-26T03:55:54.162315Z"
    }
   },
   "cell_type": "code",
   "source": [
    "def mean_squared_error_iters(y: np.ndarray, y_hat: np.ndarray) -> float:\n",
    "    \"\"\"\n",
    "    Mean Squared Error without Numpy Vectorization\n",
    "\n",
    "    Args:\n",
    "        y (1-D np.ndarray): the target vector.\n",
    "        y_hat (1-D np.ndarray): the predicted target vector.\n",
    "\n",
    "    Returns:\n",
    "        float : the mean squared error value between predicted and true values.\n",
    "    \"\"\"\n",
    "    cost = 0\n",
    "    m = y.shape[0]\n",
    "    for i in range(m):\n",
    "        cost += (y[i] - y_hat[i]) ** 2\n",
    "    return cost / m"
   ],
   "id": "7a2ba08aaa76b6e3",
   "outputs": [],
   "execution_count": 162
  },
  {
   "metadata": {
    "ExecuteTime": {
     "end_time": "2025-01-26T03:55:54.179100Z",
     "start_time": "2025-01-26T03:55:54.176026Z"
    }
   },
   "cell_type": "code",
   "source": [
    "y = np.array([1, 2, 1 ,2, 1, 5])\n",
    "y_hat = np.array([3, 5, 2, 1, 1, 4])\n",
    "print(\"MSE: \", mean_squared_error(y, y_hat))\n",
    "print(\"MSE (CUSTOM FUNCTION): \", mean_squared_error_iters(y, y_hat))"
   ],
   "id": "8e8d0ce8756a24e1",
   "outputs": [
    {
     "name": "stdout",
     "output_type": "stream",
     "text": [
      "MSE:  2.6666666666666665\n",
      "MSE (CUSTOM FUNCTION):  2.6666666666666665\n"
     ]
    }
   ],
   "execution_count": 163
  },
  {
   "metadata": {},
   "cell_type": "markdown",
   "source": [
    "#### Formula Nr. 5:  Binary Cross Entropy\n",
    "\n",
    "This is another error function that is used in Classification problems,\n",
    "the $y$ parameter from the function below represents the actual value of\n",
    "the class and $\\hat{y}$ the predicted one. You might observe that always half\n",
    "of the function is canceled, which part depends on the actual class. If\n",
    "$y = 0$, the first half is canceled, and the $(1 − y)$ will be $1$, which saves\n",
    "the second part, for $y = 1$ the opposite. The log is taken out of the\n",
    "predicted value, and as the value approaches the actual value, this log\n",
    "error will be smaller and smaller, showing ML algorithms the way to the\n",
    "best parameters.\n",
    "\n",
    "\n",
    "\n",
    "$$\n",
    "\\begin{split}\n",
    "LOSS = -\\frac{1}{output\\_size}\\displaystyle\\sum_{i=1}^{output\\_size} {y_i\\cdot\\log(\\hat{y}_i) + (1 - y_i) \\cdot \\log(1 - \\hat{y}_i)}, \\\\\n",
    "y_i\\text{ - is the value with the index $i$ in the target vector} \\\\\n",
    "\\hat{y}_i\\text{ - is the value with the index $i$ in the predicted vector} \\\\\n",
    "n\\text{ - is the number of rows in the vector $\\vec{y}$} \\\\\n",
    "\\end{split}\n",
    "$$\n",
    "In the formula above, $y$ represents the predictions vector, for example, predictions from some ML algorithm, and $\\hat{y}$ represents the actual\n",
    "target values, which we try to predict. $\\sum{}{}$ sign represents just a summation operation, where $i = 1$ represents the initial value of the\n",
    "index and output size represents the length of the vector, for every $i$ till\n",
    "output size you have to calculate the error for predicted and target value\n",
    "for row $i$, sum all this together and then calculate its mean by dividing\n",
    "by output size\n",
    "\n",
    "Implement in python using NumPy the formula above as a function\n",
    "which will take the following parameters:\n",
    "$$\n",
    "\\begin{split}\n",
    "\\vec{y}\\text{ (target): a 1-d numpy array.} \\\\\n",
    "\\hat{y}\\text{ (predictions): a 1-d numpy array.} \\\\\n",
    "\\end{split}\n",
    "$$\n",
    "The function should return the error"
   ],
   "id": "616ac6b75540ac3c"
  },
  {
   "metadata": {
    "ExecuteTime": {
     "end_time": "2025-01-26T03:55:54.191422Z",
     "start_time": "2025-01-26T03:55:54.187847Z"
    }
   },
   "cell_type": "code",
   "source": [
    "def binary_cross_entropy(y: np.ndarray, y_hat: np.ndarray) -> float:\n",
    "    \"\"\"\n",
    "    Binary Cross Entropy\n",
    "\n",
    "    Args:\n",
    "        y (1-D np.ndarray): the target vector.\n",
    "        y_hat (1-D np.ndarray): the predicted target vector.\n",
    "\n",
    "    Returns:\n",
    "        float : the mean squared error value between predicted and true values.\n",
    "    \"\"\"\n",
    "    # y * ln(y_hat) = vector\n",
    "    return -np.mean(y * np.log(y_hat) + (1 - y) * np.log(1 - y_hat))"
   ],
   "id": "174e534ea529622",
   "outputs": [],
   "execution_count": 164
  },
  {
   "metadata": {
    "ExecuteTime": {
     "end_time": "2025-01-26T03:55:54.203880Z",
     "start_time": "2025-01-26T03:55:54.200333Z"
    }
   },
   "cell_type": "code",
   "source": [
    "def binary_cross_entropy_iters(y: np.ndarray, y_hat: np.ndarray) -> float:\n",
    "    \"\"\"\n",
    "    Binary Cross Entropy without Numpy Vectorization\n",
    "\n",
    "    Args:\n",
    "        y (1-D np.ndarray): the target vector.\n",
    "        y_hat (1-D np.ndarray): the predicted target vector.\n",
    "\n",
    "    Returns:\n",
    "        float : the mean squared error value between predicted and true values.\n",
    "    \"\"\"\n",
    "    m = y.shape[0]\n",
    "    cost = 0\n",
    "    for i in range(m):\n",
    "        cost += y[i] * np.log(y_hat[i]) + (1 - y[i]) * np.log(1 - y_hat[i])\n",
    "    return - cost / m"
   ],
   "id": "11a7f7afbc26c511",
   "outputs": [],
   "execution_count": 165
  },
  {
   "metadata": {
    "ExecuteTime": {
     "end_time": "2025-01-26T03:55:54.215611Z",
     "start_time": "2025-01-26T03:55:54.212393Z"
    }
   },
   "cell_type": "code",
   "source": [
    "y = np.array([1, 0])\n",
    "y_hat = np.array([.8, .1])\n",
    "print(\"BCE: \", binary_cross_entropy(y, y_hat))\n",
    "print(\"BCE (CUSTOM FUNCTION): \", binary_cross_entropy_iters(y, y_hat))"
   ],
   "id": "d173200744c038f4",
   "outputs": [
    {
     "name": "stdout",
     "output_type": "stream",
     "text": [
      "BCE:  0.164252033486018\n",
      "BCE (CUSTOM FUNCTION):  0.164252033486018\n"
     ]
    }
   ],
   "execution_count": 166
  },
  {
   "metadata": {
    "ExecuteTime": {
     "end_time": "2025-01-26T03:55:54.307346Z",
     "start_time": "2025-01-26T03:55:54.305070Z"
    }
   },
   "cell_type": "code",
   "source": "",
   "id": "6fe3c3e4e8ee3550",
   "outputs": [],
   "execution_count": null
  }
 ],
 "metadata": {
  "kernelspec": {
   "display_name": "Python 3",
   "language": "python",
   "name": "python3"
  },
  "language_info": {
   "codemirror_mode": {
    "name": "ipython",
    "version": 2
   },
   "file_extension": ".py",
   "mimetype": "text/x-python",
   "name": "python",
   "nbconvert_exporter": "python",
   "pygments_lexer": "ipython2",
   "version": "2.7.6"
  }
 },
 "nbformat": 4,
 "nbformat_minor": 5
}
